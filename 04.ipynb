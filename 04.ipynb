{
  "cells": [
    {
      "cell_type": "code",
      "execution_count": 3,
      "metadata": {
        "colab": {
          "base_uri": "https://localhost:8080/"
        },
        "id": "oIJ-sQIGAFeZ",
        "outputId": "fb648932-728c-4ab7-e71f-5d28ac32e1c4"
      },
      "outputs": [
        {
          "name": "stdout",
          "output_type": "stream",
          "text": [
            "Collecting git+http://github.com/afnan47/cuda.git\n",
            "  Cloning http://github.com/afnan47/cuda.git to /tmp/pip-req-build-x3pol_65\n",
            "  Running command git clone --filter=blob:none --quiet http://github.com/afnan47/cuda.git /tmp/pip-req-build-x3pol_65\n",
            "  warning: redirecting to https://github.com/afnan47/cuda.git/\n",
            "  Resolved http://github.com/afnan47/cuda.git to commit aac710a35f52bb78ab34d2e52517237941399eff\n",
            "  Preparing metadata (setup.py) ... \u001b[?25l\u001b[?25hdone\n",
            "Building wheels for collected packages: NVCCPlugin\n",
            "  Building wheel for NVCCPlugin (setup.py) ... \u001b[?25l\u001b[?25hdone\n",
            "  Created wheel for NVCCPlugin: filename=NVCCPlugin-0.0.2-py3-none-any.whl size=4289 sha256=c867e9a796c4ca96d7fcd1c095278bd87333cca43549fbef533deb5c186c2baf\n",
            "  Stored in directory: /tmp/pip-ephem-wheel-cache-oywncl9u/wheels/e1/4a/af/7b73bdd6e26691feafcd343785df2e333d634293016011532c\n",
            "Successfully built NVCCPlugin\n",
            "Installing collected packages: NVCCPlugin\n",
            "Successfully installed NVCCPlugin-0.0.2\n"
          ]
        }
      ],
      "source": [
        "!pip install git+http://github.com/afnan47/cuda.git"
      ]
    },
    {
      "cell_type": "code",
      "execution_count": 4,
      "metadata": {
        "colab": {
          "base_uri": "https://localhost:8080/"
        },
        "id": "_QK1grsNOKOs",
        "outputId": "d6d3939c-65e0-409f-bdb8-63bb2d511ae2"
      },
      "outputs": [
        {
          "name": "stdout",
          "output_type": "stream",
          "text": [
            "created output directory at /content/src\n",
            "Out bin /content/result.out\n"
          ]
        }
      ],
      "source": [
        "%load_ext nvcc_plugin"
      ]
    },
    {
      "cell_type": "code",
      "execution_count": 24,
      "metadata": {
        "colab": {
          "base_uri": "https://localhost:8080/"
        },
        "id": "kAsB8mVYOPPc",
        "outputId": "efc4b812-6a25-426a-d597-26f548cdf5e1"
      },
      "outputs": [
        {
          "name": "stdout",
          "output_type": "stream",
          "text": [
            "4 \n",
            "4 \n",
            "4 \n",
            "\n"
          ]
        }
      ],
      "source": [
        "%%cu\n",
        "#include <iostream>\n",
        "using namespace std;\n",
        "\n",
        "__global__ void CudaMultiplication(int* x, int* y, int* z, int N1, int N2, int M1, int M2){\n",
        "      int row = blockIdx.x * blockDim.x + threadIdx.x;\n",
        "      int col = blockIdx.y * blockDim.y + threadIdx.y;\n",
        "      int val = 0;\n",
        "\n",
        "\n",
        "      for(int k=0; k<N2; k++){\n",
        "          val += x[row*N2+k]*y[k*M2+col] ;\n",
        "      }\n",
        "\n",
        "      z[row*M2+col]=val;\n",
        "}\n",
        "\n",
        "int main(){\n",
        "\n",
        "    int N1 = 3;\n",
        "    int N2 = 4;\n",
        "    int M1 = 4;\n",
        "    int M2 = 1;\n",
        "\n",
        "    int *x = (int *)malloc(sizeof(int)*N1*N2);\n",
        "    int *y = (int *)malloc(sizeof(int)*M1*M2);\n",
        "    int *z = (int *)malloc(sizeof(int)*N1*M2);\n",
        "\n",
        "    for(int i=0;i<N1;i++){\n",
        "      for(int j=0;j<N2;j++) {\n",
        "          x[i*N2+j]=1;\n",
        "      }\n",
        "    }\n",
        "\n",
        "    for(int i=0;i<M1;i++){\n",
        "      for(int j=0;j<M2;j++) {\n",
        "          y[i*M2+j]=1;\n",
        "      }\n",
        "    }\n",
        "\n",
        "    int *a , *b , *c;\n",
        "    cudaMalloc(&a , sizeof(int)*N1*N2);\n",
        "    cudaMalloc(&b , sizeof(int)*M1*M2);\n",
        "    cudaMalloc(&c , sizeof(int)*N1*M2);\n",
        "\n",
        "    cudaMemcpy(a, x, sizeof(int)*N1*N2, cudaMemcpyHostToDevice);\n",
        "    cudaMemcpy(b, y, sizeof(int)*M1*M2, cudaMemcpyHostToDevice);\n",
        "\n",
        "    dim3 th(N1,M2);\n",
        "    CudaMultiplication<<<1, th>>>(a, b, c, N1, N2, M1, M2);\n",
        "\n",
        "    cudaMemcpy(z, c, sizeof(int)*N1*M2, cudaMemcpyDeviceToHost);\n",
        "\n",
        "    for(int i=0;i<N1;i++){\n",
        "        for(int j=0;j<M2;j++){\n",
        "            cout<<z[i*M2+j]<<\" \";\n",
        "        }\n",
        "        cout<<endl;\n",
        "    }\n",
        "    return 0;\n",
        "}"
      ]
    },
    {
      "cell_type": "code",
      "execution_count": 26,
      "metadata": {
        "colab": {
          "base_uri": "https://localhost:8080/"
        },
        "id": "GblGLlwKC1r-",
        "outputId": "56e18f76-7197-42c7-b7b3-17815b5507d6"
      },
      "outputs": [
        {
          "name": "stdout",
          "output_type": "stream",
          "text": [
            "2 2 2 \n"
          ]
        }
      ],
      "source": [
        "%%cu\n",
        "#include <iostream>\n",
        "using namespace std;\n",
        "\n",
        "__global__ void CudaAddition(int* x, int* y, int* z, int N){\n",
        "      int index = blockIdx.x * blockDim.x + threadIdx.x;\n",
        "\n",
        "      if (index < N) {\n",
        "          z[index] = x[index]+y[index];\n",
        "      }\n",
        "}\n",
        "\n",
        "int main(){\n",
        "    int N = 3;\n",
        "\n",
        "    int *x = (int *)malloc(sizeof(int)*N);\n",
        "    int *y = (int *)malloc(sizeof(int)*N);\n",
        "    int *z = (int *)malloc(sizeof(int)*N);\n",
        "\n",
        "\n",
        "    for(int i=0;i<N;i++){\n",
        "          x[i]=1;\n",
        "          y[i]=1;\n",
        "    }\n",
        "\n",
        "\n",
        "    int *a , *b , *c;\n",
        "    cudaMalloc(&a , sizeof(int)*N);\n",
        "    cudaMalloc(&b , sizeof(int)*N);\n",
        "    cudaMalloc(&c , sizeof(int)*N);\n",
        "\n",
        "    cudaMemcpy(a, x, sizeof(int)*N, cudaMemcpyHostToDevice);\n",
        "    cudaMemcpy(b, y, sizeof(int)*N, cudaMemcpyHostToDevice);\n",
        "\n",
        "    dim3 th(N);\n",
        "    CudaAddition<<<1, th>>>(a, b, c, N);\n",
        "\n",
        "    cudaMemcpy(z, c, sizeof(int)*N, cudaMemcpyDeviceToHost);\n",
        "\n",
        "    for(int i=0;i<N;i++){\n",
        "        cout<<z[i]<<\" \";\n",
        "    }\n",
        "    return 0;\n",
        "}"
      ]
    }
  ],
  "metadata": {
    "accelerator": "GPU",
    "colab": {
      "gpuType": "T4",
      "provenance": []
    },
    "kernelspec": {
      "display_name": "Python 3",
      "name": "python3"
    },
    "language_info": {
      "name": "python"
    }
  },
  "nbformat": 4,
  "nbformat_minor": 0
}
